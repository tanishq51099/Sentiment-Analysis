{
 "cells": [
  {
   "cell_type": "code",
   "execution_count": 1,
   "id": "389d07e8-ffdb-4ae7-a865-2672cb0d7e79",
   "metadata": {},
   "outputs": [
    {
     "name": "stderr",
     "output_type": "stream",
     "text": [
      "[nltk_data] Downloading package punkt to\n",
      "[nltk_data]     /mnt/home/tanishq/nltk_data...\n",
      "[nltk_data]   Package punkt is already up-to-date!\n",
      "[nltk_data] Downloading package averaged_perceptron_tagger to\n",
      "[nltk_data]     /mnt/home/tanishq/nltk_data...\n",
      "[nltk_data]   Package averaged_perceptron_tagger is already up-to-\n",
      "[nltk_data]       date!\n",
      "[nltk_data] Downloading package maxent_ne_chunker to\n",
      "[nltk_data]     /mnt/home/tanishq/nltk_data...\n",
      "[nltk_data]   Package maxent_ne_chunker is already up-to-date!\n",
      "[nltk_data] Downloading package words to\n",
      "[nltk_data]     /mnt/home/tanishq/nltk_data...\n",
      "[nltk_data]   Package words is already up-to-date!\n",
      "[nltk_data] Downloading package vader_lexicon to\n",
      "[nltk_data]     /mnt/home/tanishq/nltk_data...\n",
      "[nltk_data]   Package vader_lexicon is already up-to-date!\n"
     ]
    },
    {
     "data": {
      "text/plain": [
       "True"
      ]
     },
     "execution_count": 1,
     "metadata": {},
     "output_type": "execute_result"
    }
   ],
   "source": [
    "import numpy as np\n",
    "import pandas as pd\n",
    "import matplotlib.pyplot as plt\n",
    "import seaborn as sns\n",
    "\n",
    "plt.style.use('ggplot')\n",
    "from tqdm import tqdm\n",
    "\n",
    "import nltk\n",
    "nltk.download('punkt')\n",
    "nltk.download('averaged_perceptron_tagger')\n",
    "nltk.download('maxent_ne_chunker')\n",
    "nltk.download('words')\n",
    "nltk.download('vader_lexicon')"
   ]
  },
  {
   "cell_type": "code",
   "execution_count": 2,
   "id": "05726165-d639-4a52-ad36-7c28f3f63d78",
   "metadata": {},
   "outputs": [
    {
     "data": {
      "text/html": [
       "<div>\n",
       "<style scoped>\n",
       "    .dataframe tbody tr th:only-of-type {\n",
       "        vertical-align: middle;\n",
       "    }\n",
       "\n",
       "    .dataframe tbody tr th {\n",
       "        vertical-align: top;\n",
       "    }\n",
       "\n",
       "    .dataframe thead th {\n",
       "        text-align: right;\n",
       "    }\n",
       "</style>\n",
       "<table border=\"1\" class=\"dataframe\">\n",
       "  <thead>\n",
       "    <tr style=\"text-align: right;\">\n",
       "      <th></th>\n",
       "      <th>Id</th>\n",
       "      <th>ProductId</th>\n",
       "      <th>UserId</th>\n",
       "      <th>ProfileName</th>\n",
       "      <th>HelpfulnessNumerator</th>\n",
       "      <th>HelpfulnessDenominator</th>\n",
       "      <th>Score</th>\n",
       "      <th>Time</th>\n",
       "      <th>Summary</th>\n",
       "      <th>Text</th>\n",
       "    </tr>\n",
       "  </thead>\n",
       "  <tbody>\n",
       "    <tr>\n",
       "      <th>0</th>\n",
       "      <td>1</td>\n",
       "      <td>B001E4KFG0</td>\n",
       "      <td>A3SGXH7AUHU8GW</td>\n",
       "      <td>delmartian</td>\n",
       "      <td>1</td>\n",
       "      <td>1</td>\n",
       "      <td>5</td>\n",
       "      <td>1303862400</td>\n",
       "      <td>Good Quality Dog Food</td>\n",
       "      <td>I have bought several of the Vitality canned d...</td>\n",
       "    </tr>\n",
       "    <tr>\n",
       "      <th>1</th>\n",
       "      <td>2</td>\n",
       "      <td>B00813GRG4</td>\n",
       "      <td>A1D87F6ZCVE5NK</td>\n",
       "      <td>dll pa</td>\n",
       "      <td>0</td>\n",
       "      <td>0</td>\n",
       "      <td>1</td>\n",
       "      <td>1346976000</td>\n",
       "      <td>Not as Advertised</td>\n",
       "      <td>Product arrived labeled as Jumbo Salted Peanut...</td>\n",
       "    </tr>\n",
       "    <tr>\n",
       "      <th>2</th>\n",
       "      <td>3</td>\n",
       "      <td>B000LQOCH0</td>\n",
       "      <td>ABXLMWJIXXAIN</td>\n",
       "      <td>Natalia Corres \"Natalia Corres\"</td>\n",
       "      <td>1</td>\n",
       "      <td>1</td>\n",
       "      <td>4</td>\n",
       "      <td>1219017600</td>\n",
       "      <td>\"Delight\" says it all</td>\n",
       "      <td>This is a confection that has been around a fe...</td>\n",
       "    </tr>\n",
       "    <tr>\n",
       "      <th>3</th>\n",
       "      <td>4</td>\n",
       "      <td>B000UA0QIQ</td>\n",
       "      <td>A395BORC6FGVXV</td>\n",
       "      <td>Karl</td>\n",
       "      <td>3</td>\n",
       "      <td>3</td>\n",
       "      <td>2</td>\n",
       "      <td>1307923200</td>\n",
       "      <td>Cough Medicine</td>\n",
       "      <td>If you are looking for the secret ingredient i...</td>\n",
       "    </tr>\n",
       "    <tr>\n",
       "      <th>4</th>\n",
       "      <td>5</td>\n",
       "      <td>B006K2ZZ7K</td>\n",
       "      <td>A1UQRSCLF8GW1T</td>\n",
       "      <td>Michael D. Bigham \"M. Wassir\"</td>\n",
       "      <td>0</td>\n",
       "      <td>0</td>\n",
       "      <td>5</td>\n",
       "      <td>1350777600</td>\n",
       "      <td>Great taffy</td>\n",
       "      <td>Great taffy at a great price.  There was a wid...</td>\n",
       "    </tr>\n",
       "  </tbody>\n",
       "</table>\n",
       "</div>"
      ],
      "text/plain": [
       "   Id   ProductId          UserId                      ProfileName  \\\n",
       "0   1  B001E4KFG0  A3SGXH7AUHU8GW                       delmartian   \n",
       "1   2  B00813GRG4  A1D87F6ZCVE5NK                           dll pa   \n",
       "2   3  B000LQOCH0   ABXLMWJIXXAIN  Natalia Corres \"Natalia Corres\"   \n",
       "3   4  B000UA0QIQ  A395BORC6FGVXV                             Karl   \n",
       "4   5  B006K2ZZ7K  A1UQRSCLF8GW1T    Michael D. Bigham \"M. Wassir\"   \n",
       "\n",
       "   HelpfulnessNumerator  HelpfulnessDenominator  Score        Time  \\\n",
       "0                     1                       1      5  1303862400   \n",
       "1                     0                       0      1  1346976000   \n",
       "2                     1                       1      4  1219017600   \n",
       "3                     3                       3      2  1307923200   \n",
       "4                     0                       0      5  1350777600   \n",
       "\n",
       "                 Summary                                               Text  \n",
       "0  Good Quality Dog Food  I have bought several of the Vitality canned d...  \n",
       "1      Not as Advertised  Product arrived labeled as Jumbo Salted Peanut...  \n",
       "2  \"Delight\" says it all  This is a confection that has been around a fe...  \n",
       "3         Cough Medicine  If you are looking for the secret ingredient i...  \n",
       "4            Great taffy  Great taffy at a great price.  There was a wid...  "
      ]
     },
     "execution_count": 2,
     "metadata": {},
     "output_type": "execute_result"
    }
   ],
   "source": [
    "df = pd.read_csv('Reviews.csv')\n",
    "df.head()"
   ]
  },
  {
   "cell_type": "code",
   "execution_count": 3,
   "id": "9d0bd02e-1d3d-41d3-bd4b-c2794aef6689",
   "metadata": {},
   "outputs": [
    {
     "data": {
      "text/plain": [
       "(568454, 10)"
      ]
     },
     "execution_count": 3,
     "metadata": {},
     "output_type": "execute_result"
    }
   ],
   "source": [
    "df.shape"
   ]
  },
  {
   "cell_type": "code",
   "execution_count": 4,
   "id": "7d86d406-9bf5-44b2-a79f-13b4f9c23aff",
   "metadata": {},
   "outputs": [
    {
     "data": {
      "text/html": [
       "<div>\n",
       "<style scoped>\n",
       "    .dataframe tbody tr th:only-of-type {\n",
       "        vertical-align: middle;\n",
       "    }\n",
       "\n",
       "    .dataframe tbody tr th {\n",
       "        vertical-align: top;\n",
       "    }\n",
       "\n",
       "    .dataframe thead th {\n",
       "        text-align: right;\n",
       "    }\n",
       "</style>\n",
       "<table border=\"1\" class=\"dataframe\">\n",
       "  <thead>\n",
       "    <tr style=\"text-align: right;\">\n",
       "      <th></th>\n",
       "      <th>Id</th>\n",
       "      <th>ProductId</th>\n",
       "      <th>UserId</th>\n",
       "      <th>ProfileName</th>\n",
       "      <th>HelpfulnessNumerator</th>\n",
       "      <th>HelpfulnessDenominator</th>\n",
       "      <th>Score</th>\n",
       "      <th>Time</th>\n",
       "      <th>Summary</th>\n",
       "      <th>Text</th>\n",
       "    </tr>\n",
       "  </thead>\n",
       "  <tbody>\n",
       "    <tr>\n",
       "      <th>0</th>\n",
       "      <td>1</td>\n",
       "      <td>B001E4KFG0</td>\n",
       "      <td>A3SGXH7AUHU8GW</td>\n",
       "      <td>delmartian</td>\n",
       "      <td>1</td>\n",
       "      <td>1</td>\n",
       "      <td>5</td>\n",
       "      <td>1303862400</td>\n",
       "      <td>Good Quality Dog Food</td>\n",
       "      <td>I have bought several of the Vitality canned d...</td>\n",
       "    </tr>\n",
       "    <tr>\n",
       "      <th>1</th>\n",
       "      <td>2</td>\n",
       "      <td>B00813GRG4</td>\n",
       "      <td>A1D87F6ZCVE5NK</td>\n",
       "      <td>dll pa</td>\n",
       "      <td>0</td>\n",
       "      <td>0</td>\n",
       "      <td>1</td>\n",
       "      <td>1346976000</td>\n",
       "      <td>Not as Advertised</td>\n",
       "      <td>Product arrived labeled as Jumbo Salted Peanut...</td>\n",
       "    </tr>\n",
       "    <tr>\n",
       "      <th>2</th>\n",
       "      <td>3</td>\n",
       "      <td>B000LQOCH0</td>\n",
       "      <td>ABXLMWJIXXAIN</td>\n",
       "      <td>Natalia Corres \"Natalia Corres\"</td>\n",
       "      <td>1</td>\n",
       "      <td>1</td>\n",
       "      <td>4</td>\n",
       "      <td>1219017600</td>\n",
       "      <td>\"Delight\" says it all</td>\n",
       "      <td>This is a confection that has been around a fe...</td>\n",
       "    </tr>\n",
       "    <tr>\n",
       "      <th>3</th>\n",
       "      <td>4</td>\n",
       "      <td>B000UA0QIQ</td>\n",
       "      <td>A395BORC6FGVXV</td>\n",
       "      <td>Karl</td>\n",
       "      <td>3</td>\n",
       "      <td>3</td>\n",
       "      <td>2</td>\n",
       "      <td>1307923200</td>\n",
       "      <td>Cough Medicine</td>\n",
       "      <td>If you are looking for the secret ingredient i...</td>\n",
       "    </tr>\n",
       "    <tr>\n",
       "      <th>4</th>\n",
       "      <td>5</td>\n",
       "      <td>B006K2ZZ7K</td>\n",
       "      <td>A1UQRSCLF8GW1T</td>\n",
       "      <td>Michael D. Bigham \"M. Wassir\"</td>\n",
       "      <td>0</td>\n",
       "      <td>0</td>\n",
       "      <td>5</td>\n",
       "      <td>1350777600</td>\n",
       "      <td>Great taffy</td>\n",
       "      <td>Great taffy at a great price.  There was a wid...</td>\n",
       "    </tr>\n",
       "    <tr>\n",
       "      <th>...</th>\n",
       "      <td>...</td>\n",
       "      <td>...</td>\n",
       "      <td>...</td>\n",
       "      <td>...</td>\n",
       "      <td>...</td>\n",
       "      <td>...</td>\n",
       "      <td>...</td>\n",
       "      <td>...</td>\n",
       "      <td>...</td>\n",
       "      <td>...</td>\n",
       "    </tr>\n",
       "    <tr>\n",
       "      <th>495</th>\n",
       "      <td>496</td>\n",
       "      <td>B000G6RYNE</td>\n",
       "      <td>APGAA43E3WPN7</td>\n",
       "      <td>Darren</td>\n",
       "      <td>0</td>\n",
       "      <td>0</td>\n",
       "      <td>5</td>\n",
       "      <td>1201392000</td>\n",
       "      <td>amazing chips</td>\n",
       "      <td>i rarely eat chips but i saw these and tried t...</td>\n",
       "    </tr>\n",
       "    <tr>\n",
       "      <th>496</th>\n",
       "      <td>497</td>\n",
       "      <td>B000G6RYNE</td>\n",
       "      <td>ABR7HU5H1KNE</td>\n",
       "      <td>Keith</td>\n",
       "      <td>0</td>\n",
       "      <td>0</td>\n",
       "      <td>5</td>\n",
       "      <td>1196726400</td>\n",
       "      <td>Best Chip Ever</td>\n",
       "      <td>This is easily the best potato chip that I hav...</td>\n",
       "    </tr>\n",
       "    <tr>\n",
       "      <th>497</th>\n",
       "      <td>498</td>\n",
       "      <td>B000G6RYNE</td>\n",
       "      <td>AJQD2WWJYOYFQ</td>\n",
       "      <td>bubbles</td>\n",
       "      <td>0</td>\n",
       "      <td>0</td>\n",
       "      <td>4</td>\n",
       "      <td>1186617600</td>\n",
       "      <td>Tangy, spicy, and sweet- oh my!</td>\n",
       "      <td>Kettle Chips Spicy Thai potato chips have the ...</td>\n",
       "    </tr>\n",
       "    <tr>\n",
       "      <th>498</th>\n",
       "      <td>499</td>\n",
       "      <td>B000G6RYNE</td>\n",
       "      <td>A16YH487W9ZYO0</td>\n",
       "      <td>Bruce G. Lindsay</td>\n",
       "      <td>0</td>\n",
       "      <td>0</td>\n",
       "      <td>4</td>\n",
       "      <td>1184198400</td>\n",
       "      <td>An indulgence with a bite</td>\n",
       "      <td>Okay, I should not eat potato chips, nor shoul...</td>\n",
       "    </tr>\n",
       "    <tr>\n",
       "      <th>499</th>\n",
       "      <td>500</td>\n",
       "      <td>B000G6RYNE</td>\n",
       "      <td>A83YQC1XOU4CS</td>\n",
       "      <td>J. Baker</td>\n",
       "      <td>0</td>\n",
       "      <td>0</td>\n",
       "      <td>5</td>\n",
       "      <td>1183420800</td>\n",
       "      <td>The best I've had</td>\n",
       "      <td>I don't write very many reviews but I have to ...</td>\n",
       "    </tr>\n",
       "  </tbody>\n",
       "</table>\n",
       "<p>500 rows × 10 columns</p>\n",
       "</div>"
      ],
      "text/plain": [
       "      Id   ProductId          UserId                      ProfileName  \\\n",
       "0      1  B001E4KFG0  A3SGXH7AUHU8GW                       delmartian   \n",
       "1      2  B00813GRG4  A1D87F6ZCVE5NK                           dll pa   \n",
       "2      3  B000LQOCH0   ABXLMWJIXXAIN  Natalia Corres \"Natalia Corres\"   \n",
       "3      4  B000UA0QIQ  A395BORC6FGVXV                             Karl   \n",
       "4      5  B006K2ZZ7K  A1UQRSCLF8GW1T    Michael D. Bigham \"M. Wassir\"   \n",
       "..   ...         ...             ...                              ...   \n",
       "495  496  B000G6RYNE   APGAA43E3WPN7                           Darren   \n",
       "496  497  B000G6RYNE    ABR7HU5H1KNE                            Keith   \n",
       "497  498  B000G6RYNE   AJQD2WWJYOYFQ                          bubbles   \n",
       "498  499  B000G6RYNE  A16YH487W9ZYO0                 Bruce G. Lindsay   \n",
       "499  500  B000G6RYNE   A83YQC1XOU4CS                         J. Baker   \n",
       "\n",
       "     HelpfulnessNumerator  HelpfulnessDenominator  Score        Time  \\\n",
       "0                       1                       1      5  1303862400   \n",
       "1                       0                       0      1  1346976000   \n",
       "2                       1                       1      4  1219017600   \n",
       "3                       3                       3      2  1307923200   \n",
       "4                       0                       0      5  1350777600   \n",
       "..                    ...                     ...    ...         ...   \n",
       "495                     0                       0      5  1201392000   \n",
       "496                     0                       0      5  1196726400   \n",
       "497                     0                       0      4  1186617600   \n",
       "498                     0                       0      4  1184198400   \n",
       "499                     0                       0      5  1183420800   \n",
       "\n",
       "                             Summary  \\\n",
       "0              Good Quality Dog Food   \n",
       "1                  Not as Advertised   \n",
       "2              \"Delight\" says it all   \n",
       "3                     Cough Medicine   \n",
       "4                        Great taffy   \n",
       "..                               ...   \n",
       "495                    amazing chips   \n",
       "496                   Best Chip Ever   \n",
       "497  Tangy, spicy, and sweet- oh my!   \n",
       "498        An indulgence with a bite   \n",
       "499                The best I've had   \n",
       "\n",
       "                                                  Text  \n",
       "0    I have bought several of the Vitality canned d...  \n",
       "1    Product arrived labeled as Jumbo Salted Peanut...  \n",
       "2    This is a confection that has been around a fe...  \n",
       "3    If you are looking for the secret ingredient i...  \n",
       "4    Great taffy at a great price.  There was a wid...  \n",
       "..                                                 ...  \n",
       "495  i rarely eat chips but i saw these and tried t...  \n",
       "496  This is easily the best potato chip that I hav...  \n",
       "497  Kettle Chips Spicy Thai potato chips have the ...  \n",
       "498  Okay, I should not eat potato chips, nor shoul...  \n",
       "499  I don't write very many reviews but I have to ...  \n",
       "\n",
       "[500 rows x 10 columns]"
      ]
     },
     "execution_count": 4,
     "metadata": {},
     "output_type": "execute_result"
    }
   ],
   "source": [
    "reviews = df.head(500)\n",
    "reviews"
   ]
  },
  {
   "cell_type": "code",
   "execution_count": 5,
   "id": "55cb075a-41f4-4bd0-b74e-bb7fb77d98de",
   "metadata": {},
   "outputs": [
    {
     "data": {
      "text/plain": [
       "<Axes: title={'center': 'Count of Reviews by Stars'}, xlabel='Score'>"
      ]
     },
     "execution_count": 5,
     "metadata": {},
     "output_type": "execute_result"
    },
    {
     "data": {
      "image/png": "[encoded data removed]",
      "text/plain": [
       "<Figure size 1000x500 with 1 Axes>"
      ]
     },
     "metadata": {},
     "output_type": "display_data"
    }
   ],
   "source": [
    "df['Score'].value_counts().sort_index().plot(kind =\"bar\", title = 'Count of Reviews by Stars',figsize = (10,5))"
   ]
  },
  {
   "cell_type": "code",
   "execution_count": 6,
   "id": "4188d2a3-4e76-49bf-8ca0-fd15de1e559c",
   "metadata": {},
   "outputs": [
    {
     "name": "stdout",
     "output_type": "stream",
     "text": [
      "This oatmeal is not good. Its mushy, soft, I don't like it. Quaker Oats is the way to go.\n"
     ]
    }
   ],
   "source": [
    "example = df['Text'][50]\n",
    "print(example)"
   ]
  },
  {
   "cell_type": "code",
   "execution_count": 7,
   "id": "4d37d253-a71b-4f85-b4a3-96e32ffef590",
   "metadata": {},
   "outputs": [
    {
     "data": {
      "text/plain": [
       "['This', 'oatmeal', 'is', 'not', 'good', '.', 'Its', 'mushy', ',', 'soft']"
      ]
     },
     "execution_count": 7,
     "metadata": {},
     "output_type": "execute_result"
    }
   ],
   "source": [
    "tokens = nltk.word_tokenize(example)\n",
    "tokens[:10]"
   ]
  },
  {
   "cell_type": "code",
   "execution_count": 8,
   "id": "d3b29f9b-c757-4587-9269-c1bf52378942",
   "metadata": {},
   "outputs": [
    {
     "data": {
      "text/plain": [
       "[('This', 'DT'),\n",
       " ('oatmeal', 'NN'),\n",
       " ('is', 'VBZ'),\n",
       " ('not', 'RB'),\n",
       " ('good', 'JJ'),\n",
       " ('.', '.'),\n",
       " ('Its', 'PRP$'),\n",
       " ('mushy', 'NN'),\n",
       " (',', ','),\n",
       " ('soft', 'JJ')]"
      ]
     },
     "execution_count": 8,
     "metadata": {},
     "output_type": "execute_result"
    }
   ],
   "source": [
    "tagged = nltk.pos_tag(tokens)\n",
    "tagged[:10]"
   ]
  },
  {
   "cell_type": "code",
   "execution_count": 9,
   "id": "13f2a8b4-cc65-4ef7-aa7f-ee16f8ad7c29",
   "metadata": {},
   "outputs": [
    {
     "name": "stdout",
     "output_type": "stream",
     "text": [
      "(S\n",
      "  This/DT\n",
      "  oatmeal/NN\n",
      "  is/VBZ\n",
      "  not/RB\n",
      "  good/JJ\n",
      "  ./.\n",
      "  Its/PRP$\n",
      "  mushy/NN\n",
      "  ,/,\n",
      "  soft/JJ\n",
      "  ,/,\n",
      "  I/PRP\n",
      "  do/VBP\n",
      "  n't/RB\n",
      "  like/VB\n",
      "  it/PRP\n",
      "  ./.\n",
      "  (ORGANIZATION Quaker/NNP Oats/NNPS)\n",
      "  is/VBZ\n",
      "  the/DT\n",
      "  way/NN\n",
      "  to/TO\n",
      "  go/VB\n",
      "  ./.)\n"
     ]
    }
   ],
   "source": [
    "entities = nltk.chunk.ne_chunk(tagged)\n",
    "entities.pprint()"
   ]
  },
  {
   "cell_type": "markdown",
   "id": "292b7ebd-9891-4e6d-b337-c98f00680a92",
   "metadata": {},
   "source": [
    "### Roberta"
   ]
  },
  {
   "cell_type": "code",
   "execution_count": 10,
   "id": "7c2647ca-3e65-412f-bf3d-b91c0f947af1",
   "metadata": {},
   "outputs": [],
   "source": [
    "from transformers import AutoTokenizer\n",
    "from transformers import AutoModelForSequenceClassification\n",
    "from scipy.special import softmax\n",
    "import torch"
   ]
  },
  {
   "cell_type": "code",
   "execution_count": 11,
   "id": "f37298d5-c45a-4319-a95c-391150b584ac",
   "metadata": {},
   "outputs": [],
   "source": [
    "Model = f\"cardiffnlp/twitter-roberta-base-sentiment\"\n",
    "tokenizer = AutoTokenizer.from_pretrained(Model)\n",
    "model = AutoModelForSequenceClassification.from_pretrained(Model)"
   ]
  },
  {
   "cell_type": "code",
   "execution_count": 12,
   "id": "9681ba58-5978-4391-a75e-0bc7495c9a07",
   "metadata": {},
   "outputs": [
    {
     "data": {
      "text/plain": [
       "RobertaForSequenceClassification(\n",
       "  (roberta): RobertaModel(\n",
       "    (embeddings): RobertaEmbeddings(\n",
       "      (word_embeddings): Embedding(50265, 768, padding_idx=1)\n",
       "      (position_embeddings): Embedding(514, 768, padding_idx=1)\n",
       "      (token_type_embeddings): Embedding(1, 768)\n",
       "      (LayerNorm): LayerNorm((768,), eps=1e-05, elementwise_affine=True)\n",
       "      (dropout): Dropout(p=0.1, inplace=False)\n",
       "    )\n",
       "    (encoder): RobertaEncoder(\n",
       "      (layer): ModuleList(\n",
       "        (0-11): 12 x RobertaLayer(\n",
       "          (attention): RobertaAttention(\n",
       "            (self): RobertaSelfAttention(\n",
       "              (query): Linear(in_features=768, out_features=768, bias=True)\n",
       "              (key): Linear(in_features=768, out_features=768, bias=True)\n",
       "              (value): Linear(in_features=768, out_features=768, bias=True)\n",
       "              (dropout): Dropout(p=0.1, inplace=False)\n",
       "            )\n",
       "            (output): RobertaSelfOutput(\n",
       "              (dense): Linear(in_features=768, out_features=768, bias=True)\n",
       "              (LayerNorm): LayerNorm((768,), eps=1e-05, elementwise_affine=True)\n",
       "              (dropout): Dropout(p=0.1, inplace=False)\n",
       "            )\n",
       "          )\n",
       "          (intermediate): RobertaIntermediate(\n",
       "            (dense): Linear(in_features=768, out_features=3072, bias=True)\n",
       "            (intermediate_act_fn): GELUActivation()\n",
       "          )\n",
       "          (output): RobertaOutput(\n",
       "            (dense): Linear(in_features=3072, out_features=768, bias=True)\n",
       "            (LayerNorm): LayerNorm((768,), eps=1e-05, elementwise_affine=True)\n",
       "            (dropout): Dropout(p=0.1, inplace=False)\n",
       "          )\n",
       "        )\n",
       "      )\n",
       "    )\n",
       "  )\n",
       "  (classifier): RobertaClassificationHead(\n",
       "    (dense): Linear(in_features=768, out_features=768, bias=True)\n",
       "    (dropout): Dropout(p=0.1, inplace=False)\n",
       "    (out_proj): Linear(in_features=768, out_features=3, bias=True)\n",
       "  )\n",
       ")"
      ]
     },
     "execution_count": 12,
     "metadata": {},
     "output_type": "execute_result"
    }
   ],
   "source": [
    "device = torch.device('cuda' if torch.cuda.is_available() else 'cpu')\n",
    "model.to(device)"
   ]
  },
  {
   "cell_type": "code",
   "execution_count": 13,
   "id": "39d91261-d26f-482d-b07d-b204fc929f6a",
   "metadata": {},
   "outputs": [
    {
     "data": {
      "text/plain": [
       "device(type='cuda')"
      ]
     },
     "execution_count": 13,
     "metadata": {},
     "output_type": "execute_result"
    }
   ],
   "source": [
    "device"
   ]
  },
  {
   "cell_type": "code",
   "execution_count": 14,
   "id": "717cf01c-4718-4421-af5e-38d5fa8edb1b",
   "metadata": {},
   "outputs": [
    {
     "name": "stdout",
     "output_type": "stream",
     "text": [
      "This oatmeal is not good. Its mushy, soft, I don't like it. Quaker Oats is the way to go.\n"
     ]
    }
   ],
   "source": [
    "print(example)"
   ]
  },
  {
   "cell_type": "code",
   "execution_count": 15,
   "id": "a505576f-7b71-440e-b3d3-a977ad4bb027",
   "metadata": {},
   "outputs": [
    {
     "data": {
      "text/plain": [
       "array([0.97635514, 0.02068747, 0.00295737], dtype=float32)"
      ]
     },
     "execution_count": 15,
     "metadata": {},
     "output_type": "execute_result"
    }
   ],
   "source": [
    "encoded_text = tokenizer(example, return_tensors='pt')\n",
    "encoded_text = {k: v.to(device) for k, v in encoded_text.items()}\n",
    "output = model(**encoded_text)\n",
    "scores = output[0][0].detach().cpu().numpy()\n",
    "scores = softmax(scores)\n",
    "scores"
   ]
  },
  {
   "cell_type": "code",
   "execution_count": 16,
   "id": "21ef4c5e-5839-47dc-9f72-706642aedfce",
   "metadata": {},
   "outputs": [],
   "source": [
    "scores_dict = {\n",
    "    'negative': scores[0],\n",
    "    'neutral': scores[1],\n",
    "    'positive': scores[2],\n",
    "}"
   ]
  },
  {
   "cell_type": "code",
   "execution_count": 17,
   "id": "e2bf408a-4f58-456c-9373-a24d58faf2f5",
   "metadata": {},
   "outputs": [
    {
     "data": {
      "text/plain": [
       "{'negative': 0.97635514, 'neutral': 0.02068747, 'positive': 0.0029573706}"
      ]
     },
     "execution_count": 17,
     "metadata": {},
     "output_type": "execute_result"
    }
   ],
   "source": [
    "scores_dict"
   ]
  },
  {
   "cell_type": "code",
   "execution_count": 18,
   "id": "adc6be32-9456-4576-8efb-9d21828be7d0",
   "metadata": {},
   "outputs": [],
   "source": [
    "def polarity_scores_roberta(example):\n",
    "    encoded_text = tokenizer(example, return_tensors='pt')\n",
    "    encoded_text = {k: v.to(device) for k, v in encoded_text.items()}\n",
    "    output = model(**encoded_text)\n",
    "    scores = output[0][0].detach().cpu().numpy()\n",
    "    scores = softmax(scores)\n",
    "    scores_dict = {\n",
    "        'negative': scores[0],\n",
    "        'neutral': scores[1],\n",
    "        'positive': scores[2],\n",
    "    }\n",
    "    return scores_dict"
   ]
  },
  {
   "cell_type": "code",
   "execution_count": 19,
   "id": "b8f94e7d-76ee-4e83-9c5a-53d7cd8d9dd3",
   "metadata": {},
   "outputs": [
    {
     "name": "stderr",
     "output_type": "stream",
     "text": [
      " 19%|█▉        | 97/500 [00:00<00:03, 102.27it/s]"
     ]
    },
    {
     "name": "stdout",
     "output_type": "stream",
     "text": [
      "Broke for id 83\n"
     ]
    },
    {
     "name": "stderr",
     "output_type": "stream",
     "text": [
      " 40%|████      | 200/500 [00:01<00:02, 103.46it/s]"
     ]
    },
    {
     "name": "stdout",
     "output_type": "stream",
     "text": [
      "Broke for id 187\n"
     ]
    },
    {
     "name": "stderr",
     "output_type": "stream",
     "text": [
      "100%|██████████| 500/500 [00:04<00:00, 111.85it/s]\n"
     ]
    }
   ],
   "source": [
    "res = {}\n",
    "for i, row in tqdm(reviews.iterrows(), total=len(reviews)):\n",
    "    try:\n",
    "        text = row['Text']\n",
    "        myid = row['Id']\n",
    "        roberta_result = polarity_scores_roberta(text)\n",
    "        res[myid] = roberta_result\n",
    "    except RuntimeError:\n",
    "        print(f'Broke for id {myid}')"
   ]
  },
  {
   "cell_type": "code",
   "execution_count": 20,
   "id": "0fc9782e-de7e-49bd-a1b7-f0e5f2ab4434",
   "metadata": {},
   "outputs": [],
   "source": [
    "results = pd.DataFrame(res).T\n",
    "results = results.reset_index().rename(columns={'index':'Id'})\n",
    "results = results.merge(reviews, how = 'left')"
   ]
  },
  {
   "cell_type": "code",
   "execution_count": 21,
   "id": "0a26dea8-980c-47df-9ce7-529b9b8cee91",
   "metadata": {},
   "outputs": [
    {
     "data": {
      "text/html": [
       "<div>\n",
       "<style scoped>\n",
       "    .dataframe tbody tr th:only-of-type {\n",
       "        vertical-align: middle;\n",
       "    }\n",
       "\n",
       "    .dataframe tbody tr th {\n",
       "        vertical-align: top;\n",
       "    }\n",
       "\n",
       "    .dataframe thead th {\n",
       "        text-align: right;\n",
       "    }\n",
       "</style>\n",
       "<table border=\"1\" class=\"dataframe\">\n",
       "  <thead>\n",
       "    <tr style=\"text-align: right;\">\n",
       "      <th></th>\n",
       "      <th>Id</th>\n",
       "      <th>negative</th>\n",
       "      <th>neutral</th>\n",
       "      <th>positive</th>\n",
       "      <th>ProductId</th>\n",
       "      <th>UserId</th>\n",
       "      <th>ProfileName</th>\n",
       "      <th>HelpfulnessNumerator</th>\n",
       "      <th>HelpfulnessDenominator</th>\n",
       "      <th>Score</th>\n",
       "      <th>Time</th>\n",
       "      <th>Summary</th>\n",
       "      <th>Text</th>\n",
       "    </tr>\n",
       "  </thead>\n",
       "  <tbody>\n",
       "    <tr>\n",
       "      <th>0</th>\n",
       "      <td>1</td>\n",
       "      <td>0.009624</td>\n",
       "      <td>0.049980</td>\n",
       "      <td>0.940396</td>\n",
       "      <td>B001E4KFG0</td>\n",
       "      <td>A3SGXH7AUHU8GW</td>\n",
       "      <td>delmartian</td>\n",
       "      <td>1</td>\n",
       "      <td>1</td>\n",
       "      <td>5</td>\n",
       "      <td>1303862400</td>\n",
       "      <td>Good Quality Dog Food</td>\n",
       "      <td>I have bought several of the Vitality canned d...</td>\n",
       "    </tr>\n",
       "    <tr>\n",
       "      <th>1</th>\n",
       "      <td>2</td>\n",
       "      <td>0.508986</td>\n",
       "      <td>0.452414</td>\n",
       "      <td>0.038600</td>\n",
       "      <td>B00813GRG4</td>\n",
       "      <td>A1D87F6ZCVE5NK</td>\n",
       "      <td>dll pa</td>\n",
       "      <td>0</td>\n",
       "      <td>0</td>\n",
       "      <td>1</td>\n",
       "      <td>1346976000</td>\n",
       "      <td>Not as Advertised</td>\n",
       "      <td>Product arrived labeled as Jumbo Salted Peanut...</td>\n",
       "    </tr>\n",
       "    <tr>\n",
       "      <th>2</th>\n",
       "      <td>3</td>\n",
       "      <td>0.003229</td>\n",
       "      <td>0.098067</td>\n",
       "      <td>0.898704</td>\n",
       "      <td>B000LQOCH0</td>\n",
       "      <td>ABXLMWJIXXAIN</td>\n",
       "      <td>Natalia Corres \"Natalia Corres\"</td>\n",
       "      <td>1</td>\n",
       "      <td>1</td>\n",
       "      <td>4</td>\n",
       "      <td>1219017600</td>\n",
       "      <td>\"Delight\" says it all</td>\n",
       "      <td>This is a confection that has been around a fe...</td>\n",
       "    </tr>\n",
       "    <tr>\n",
       "      <th>3</th>\n",
       "      <td>4</td>\n",
       "      <td>0.002295</td>\n",
       "      <td>0.090219</td>\n",
       "      <td>0.907486</td>\n",
       "      <td>B000UA0QIQ</td>\n",
       "      <td>A395BORC6FGVXV</td>\n",
       "      <td>Karl</td>\n",
       "      <td>3</td>\n",
       "      <td>3</td>\n",
       "      <td>2</td>\n",
       "      <td>1307923200</td>\n",
       "      <td>Cough Medicine</td>\n",
       "      <td>If you are looking for the secret ingredient i...</td>\n",
       "    </tr>\n",
       "    <tr>\n",
       "      <th>4</th>\n",
       "      <td>5</td>\n",
       "      <td>0.001635</td>\n",
       "      <td>0.010302</td>\n",
       "      <td>0.988063</td>\n",
       "      <td>B006K2ZZ7K</td>\n",
       "      <td>A1UQRSCLF8GW1T</td>\n",
       "      <td>Michael D. Bigham \"M. Wassir\"</td>\n",
       "      <td>0</td>\n",
       "      <td>0</td>\n",
       "      <td>5</td>\n",
       "      <td>1350777600</td>\n",
       "      <td>Great taffy</td>\n",
       "      <td>Great taffy at a great price.  There was a wid...</td>\n",
       "    </tr>\n",
       "    <tr>\n",
       "      <th>...</th>\n",
       "      <td>...</td>\n",
       "      <td>...</td>\n",
       "      <td>...</td>\n",
       "      <td>...</td>\n",
       "      <td>...</td>\n",
       "      <td>...</td>\n",
       "      <td>...</td>\n",
       "      <td>...</td>\n",
       "      <td>...</td>\n",
       "      <td>...</td>\n",
       "      <td>...</td>\n",
       "      <td>...</td>\n",
       "      <td>...</td>\n",
       "    </tr>\n",
       "    <tr>\n",
       "      <th>493</th>\n",
       "      <td>496</td>\n",
       "      <td>0.001906</td>\n",
       "      <td>0.009862</td>\n",
       "      <td>0.988232</td>\n",
       "      <td>B000G6RYNE</td>\n",
       "      <td>APGAA43E3WPN7</td>\n",
       "      <td>Darren</td>\n",
       "      <td>0</td>\n",
       "      <td>0</td>\n",
       "      <td>5</td>\n",
       "      <td>1201392000</td>\n",
       "      <td>amazing chips</td>\n",
       "      <td>i rarely eat chips but i saw these and tried t...</td>\n",
       "    </tr>\n",
       "    <tr>\n",
       "      <th>494</th>\n",
       "      <td>497</td>\n",
       "      <td>0.004415</td>\n",
       "      <td>0.034215</td>\n",
       "      <td>0.961369</td>\n",
       "      <td>B000G6RYNE</td>\n",
       "      <td>ABR7HU5H1KNE</td>\n",
       "      <td>Keith</td>\n",
       "      <td>0</td>\n",
       "      <td>0</td>\n",
       "      <td>5</td>\n",
       "      <td>1196726400</td>\n",
       "      <td>Best Chip Ever</td>\n",
       "      <td>This is easily the best potato chip that I hav...</td>\n",
       "    </tr>\n",
       "    <tr>\n",
       "      <th>495</th>\n",
       "      <td>498</td>\n",
       "      <td>0.006427</td>\n",
       "      <td>0.074537</td>\n",
       "      <td>0.919036</td>\n",
       "      <td>B000G6RYNE</td>\n",
       "      <td>AJQD2WWJYOYFQ</td>\n",
       "      <td>bubbles</td>\n",
       "      <td>0</td>\n",
       "      <td>0</td>\n",
       "      <td>4</td>\n",
       "      <td>1186617600</td>\n",
       "      <td>Tangy, spicy, and sweet- oh my!</td>\n",
       "      <td>Kettle Chips Spicy Thai potato chips have the ...</td>\n",
       "    </tr>\n",
       "    <tr>\n",
       "      <th>496</th>\n",
       "      <td>499</td>\n",
       "      <td>0.865614</td>\n",
       "      <td>0.119366</td>\n",
       "      <td>0.015020</td>\n",
       "      <td>B000G6RYNE</td>\n",
       "      <td>A16YH487W9ZYO0</td>\n",
       "      <td>Bruce G. Lindsay</td>\n",
       "      <td>0</td>\n",
       "      <td>0</td>\n",
       "      <td>4</td>\n",
       "      <td>1184198400</td>\n",
       "      <td>An indulgence with a bite</td>\n",
       "      <td>Okay, I should not eat potato chips, nor shoul...</td>\n",
       "    </tr>\n",
       "    <tr>\n",
       "      <th>497</th>\n",
       "      <td>500</td>\n",
       "      <td>0.002440</td>\n",
       "      <td>0.011327</td>\n",
       "      <td>0.986233</td>\n",
       "      <td>B000G6RYNE</td>\n",
       "      <td>A83YQC1XOU4CS</td>\n",
       "      <td>J. Baker</td>\n",
       "      <td>0</td>\n",
       "      <td>0</td>\n",
       "      <td>5</td>\n",
       "      <td>1183420800</td>\n",
       "      <td>The best I've had</td>\n",
       "      <td>I don't write very many reviews but I have to ...</td>\n",
       "    </tr>\n",
       "  </tbody>\n",
       "</table>\n",
       "<p>498 rows × 13 columns</p>\n",
       "</div>"
      ],
      "text/plain": [
       "      Id  negative   neutral  positive   ProductId          UserId  \\\n",
       "0      1  0.009624  0.049980  0.940396  B001E4KFG0  A3SGXH7AUHU8GW   \n",
       "1      2  0.508986  0.452414  0.038600  B00813GRG4  A1D87F6ZCVE5NK   \n",
       "2      3  0.003229  0.098067  0.898704  B000LQOCH0   ABXLMWJIXXAIN   \n",
       "3      4  0.002295  0.090219  0.907486  B000UA0QIQ  A395BORC6FGVXV   \n",
       "4      5  0.001635  0.010302  0.988063  B006K2ZZ7K  A1UQRSCLF8GW1T   \n",
       "..   ...       ...       ...       ...         ...             ...   \n",
       "493  496  0.001906  0.009862  0.988232  B000G6RYNE   APGAA43E3WPN7   \n",
       "494  497  0.004415  0.034215  0.961369  B000G6RYNE    ABR7HU5H1KNE   \n",
       "495  498  0.006427  0.074537  0.919036  B000G6RYNE   AJQD2WWJYOYFQ   \n",
       "496  499  0.865614  0.119366  0.015020  B000G6RYNE  A16YH487W9ZYO0   \n",
       "497  500  0.002440  0.011327  0.986233  B000G6RYNE   A83YQC1XOU4CS   \n",
       "\n",
       "                         ProfileName  HelpfulnessNumerator  \\\n",
       "0                         delmartian                     1   \n",
       "1                             dll pa                     0   \n",
       "2    Natalia Corres \"Natalia Corres\"                     1   \n",
       "3                               Karl                     3   \n",
       "4      Michael D. Bigham \"M. Wassir\"                     0   \n",
       "..                               ...                   ...   \n",
       "493                           Darren                     0   \n",
       "494                            Keith                     0   \n",
       "495                          bubbles                     0   \n",
       "496                 Bruce G. Lindsay                     0   \n",
       "497                         J. Baker                     0   \n",
       "\n",
       "     HelpfulnessDenominator  Score        Time  \\\n",
       "0                         1      5  1303862400   \n",
       "1                         0      1  1346976000   \n",
       "2                         1      4  1219017600   \n",
       "3                         3      2  1307923200   \n",
       "4                         0      5  1350777600   \n",
       "..                      ...    ...         ...   \n",
       "493                       0      5  1201392000   \n",
       "494                       0      5  1196726400   \n",
       "495                       0      4  1186617600   \n",
       "496                       0      4  1184198400   \n",
       "497                       0      5  1183420800   \n",
       "\n",
       "                             Summary  \\\n",
       "0              Good Quality Dog Food   \n",
       "1                  Not as Advertised   \n",
       "2              \"Delight\" says it all   \n",
       "3                     Cough Medicine   \n",
       "4                        Great taffy   \n",
       "..                               ...   \n",
       "493                    amazing chips   \n",
       "494                   Best Chip Ever   \n",
       "495  Tangy, spicy, and sweet- oh my!   \n",
       "496        An indulgence with a bite   \n",
       "497                The best I've had   \n",
       "\n",
       "                                                  Text  \n",
       "0    I have bought several of the Vitality canned d...  \n",
       "1    Product arrived labeled as Jumbo Salted Peanut...  \n",
       "2    This is a confection that has been around a fe...  \n",
       "3    If you are looking for the secret ingredient i...  \n",
       "4    Great taffy at a great price.  There was a wid...  \n",
       "..                                                 ...  \n",
       "493  i rarely eat chips but i saw these and tried t...  \n",
       "494  This is easily the best potato chip that I hav...  \n",
       "495  Kettle Chips Spicy Thai potato chips have the ...  \n",
       "496  Okay, I should not eat potato chips, nor shoul...  \n",
       "497  I don't write very many reviews but I have to ...  \n",
       "\n",
       "[498 rows x 13 columns]"
      ]
     },
     "execution_count": 21,
     "metadata": {},
     "output_type": "execute_result"
    }
   ],
   "source": [
    "results"
   ]
  },
  {
   "cell_type": "code",
   "execution_count": null,
   "id": "759b51d6-965e-48c6-a588-17e187fda673",
   "metadata": {},
   "outputs": [],
   "source": []
  }
 ],
 "metadata": {
  "kernelspec": {
   "display_name": "Python 3 (ipykernel)",
   "language": "python",
   "name": "python3"
  },
  "language_info": {
   "codemirror_mode": {
    "name": "ipython",
    "version": 3
   },
   "file_extension": ".py",
   "mimetype": "text/x-python",
   "name": "python",
   "nbconvert_exporter": "python",
   "pygments_lexer": "ipython3",
   "version": "3.12.2"
  }
 },
 "nbformat": 4,
 "nbformat_minor": 5
}
